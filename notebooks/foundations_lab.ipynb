{
 "cells": [
  {
   "cell_type": "markdown",
   "metadata": {},
   "source": [
    "# Foundations Lab: Stop Getting Garbage Outputs\n",
    "\n",
    "**Goal:** Transform from vague requests to precise instructions that get you exactly what you need.\n",
    "\n",
    "**Time:** 2-3 hours total (spread across the week)\n",
    "\n",
    "---\n",
    "\n",
    "## Challenge #1: Fix These Broken Prompts (30 minutes)\n",
    "\n",
    "Below are three terrible prompts that give useless results. Your job: transform each one into a precise instruction that generates valuable output.\n",
    "\n",
    "### Broken Prompt #1: Content Creation"
   ]
  },
  {
   "cell_type": "code",
   "execution_count": null,
   "metadata": {},
   "source": [
    "# BROKEN PROMPT (try this first to see how bad it is)\n",
    "broken_prompt_1 = \"\"\"\n",
    "Write me a blog post about productivity\n",
    "\"\"\"\n",
    "\n",
    "print(\"❌ BROKEN PROMPT:\")\n",
    "print(broken_prompt_1)\n",
    "print(\"\\n💭 What's wrong with this?\")\n",
    "print(\"- No target audience specified\")\n",
    "print(\"- No specific angle or focus\")\n",
    "print(\"- No length or format requirements\")\n",
    "print(\"- No tone or style guidance\")\n",
    "print(\"\\n🎯 Result: Generic, boring content that helps nobody\")"
   ]
  },
  {
   "cell_type": "code",
   "execution_count": null,
   "metadata": {},
   "source": [
    "# YOUR TURN: Fix this prompt\n",
    "# Fill in the improved version below\n",
    "\n",
    "improved_prompt_1 = \"\"\"\n",
    "# Write your improved prompt here\n",
    "# Think about:\n",
    "# - Who is the target audience?\n",
    "# - What specific productivity problem are you solving?\n",
    "# - What format do you want?\n",
    "# - What tone should it have?\n",
    "\n",
    "\"\"\"\n",
    "\n",
    "print(\"✅ YOUR IMPROVED PROMPT:\")\n",
    "print(improved_prompt_1)"
   ]
  },
  {
   "cell_type": "markdown",
   "metadata": {},
   "source": [
    "### Broken Prompt #2: Code Help"
   ]
  },
  {
   "cell_type": "code",
   "execution_count": null,
   "metadata": {},
   "source": [
    "# BROKEN PROMPT #2\n",
    "broken_prompt_2 = \"\"\"\n",
    "Help me with this Python code\n",
    "\"\"\"\n",
    "\n",
    "print(\"❌ BROKEN PROMPT:\")\n",
    "print(broken_prompt_2)\n",
    "print(\"\\n💭 What's wrong with this?\")\n",
    "print(\"- No code provided\")\n",
    "print(\"- No specific problem described\")\n",
    "print(\"- No context about what the code should do\")\n",
    "print(\"- No indication of skill level\")\n",
    "print(\"\\n🎯 Result: Generic Python tutorial instead of specific help\")"
   ]
  },
  {
   "cell_type": "code",
   "execution_count": null,
   "metadata": {},
   "source": [
    "# YOUR TURN: Fix this prompt\n",
    "improved_prompt_2 = \"\"\"\n",
    "# Write your improved prompt here\n",
    "# Include:\n",
    "# - Specific code snippet\n",
    "# - Exact problem you're facing\n",
    "# - What you want the code to accomplish\n",
    "# - Your experience level\n",
    "\n",
    "\"\"\"\n",
    "\n",
    "print(\"✅ YOUR IMPROVED PROMPT:\")\n",
    "print(improved_prompt_2)"
   ]
  },
  {
   "cell_type": "markdown",
   "metadata": {},
   "source": [
    "### Broken Prompt #3: Business Strategy"
   ]
  },
  {
   "cell_type": "code",
   "execution_count": null,
   "metadata": {},
   "source": [
    "# BROKEN PROMPT #3\n",
    "broken_prompt_3 = \"\"\"\n",
    "Give me a marketing strategy\n",
    "\"\"\"\n",
    "\n",
    "print(\"❌ BROKEN PROMPT:\")\n",
    "print(broken_prompt_3)\n",
    "print(\"\\n💭 What's wrong with this?\")\n",
    "print(\"- No business details\")\n",
    "print(\"- No target market specified\")\n",
    "print(\"- No budget or timeline\")\n",
    "print(\"- No current situation context\")\n",
    "print(\"\\n🎯 Result: Generic advice that applies to everyone and helps no one\")"
   ]
  },
  {
   "cell_type": "code",
   "execution_count": null,
   "metadata": {},
   "source": [
    "# YOUR TURN: Fix this prompt\n",
    "improved_prompt_3 = \"\"\"\n",
    "# Write your improved prompt here\n",
    "# Include:\n",
    "# - Specific business type and size\n",
    "# - Target audience details\n",
    "# - Budget constraints\n",
    "# - Specific goals and timeline\n",
    "# - Current challenges\n",
    "\n",
    "\"\"\"\n",
    "\n",
    "print(\"✅ YOUR IMPROVED PROMPT:\")\n",
    "print(improved_prompt_3)"
   ]
  },
  {
   "cell_type": "markdown",
   "metadata": {},
   "source": [
    "---\n",
    "\n",
    "## The CLEAR Framework (45 minutes)\n",
    "\n",
    "Now let's learn a systematic approach to writing great prompts. Use this framework for every prompt you write.\n",
    "\n",
    "### C.L.E.A.R Framework:\n",
    "- **C**ontext: Set the scene and role\n",
    "- **L**ength: Specify output length\n",
    "- **E**xamples: Show what you want\n",
    "- **A**udience: Define who it's for\n",
    "- **R**equirements: List specific needs"
   ]
  },
  {
   "cell_type": "markdown",
   "metadata": {},
   "source": [
    "### Exercise: Apply CLEAR Framework\n",
    "\n",
    "**Scenario:** You need to write an email to potential customers about your new project management app."
   ]
  },
  {
   "cell_type": "code",
   "execution_count": null,
   "metadata": {},
   "source": [
    "# Step 1: Context - Set the role and situation\n",
    "context = \"\"\"\n",
    "# Fill this in:\n",
    "# What role should AI take? (e.g., \"You are a...\")\n",
    "# What's the situation?\n",
    "\n",
    "\"\"\"\n",
    "\n",
    "print(\"CONTEXT:\")\n",
    "print(context)"
   ]
  },
  {
   "cell_type": "code",
   "execution_count": null,
   "metadata": {},
   "source": [
    "# Step 2: Length - Be specific about output size\n",
    "length = \"\"\"\n",
    "# Fill this in:\n",
    "# How long should the email be?\n",
    "# Word count? Paragraph count?\n",
    "\n",
    "\"\"\"\n",
    "\n",
    "print(\"LENGTH:\")\n",
    "print(length)"
   ]
  },
  {
   "cell_type": "code",
   "execution_count": null,
   "metadata": {},
   "source": [
    "# Step 3: Examples - Show what good looks like\n",
    "examples = \"\"\"\n",
    "# Fill this in:\n",
    "# What style or format do you want?\n",
    "# Any specific phrases or approaches?\n",
    "\n",
    "\"\"\"\n",
    "\n",
    "print(\"EXAMPLES:\")\n",
    "print(examples)"
   ]
  },
  {
   "cell_type": "code",
   "execution_count": null,
   "metadata": {},
   "source": [
    "# Step 4: Audience - Define exactly who this is for\n",
    "audience = \"\"\"\n",
    "# Fill this in:\n",
    "# Who are you writing to?\n",
    "# What are their pain points?\n",
    "# What do they care about?\n",
    "\n",
    "\"\"\"\n",
    "\n",
    "print(\"AUDIENCE:\")\n",
    "print(audience)"
   ]
  },
  {
   "cell_type": "code",
   "execution_count": null,
   "metadata": {},
   "source": [
    "# Step 5: Requirements - List specific must-haves\n",
    "requirements = \"\"\"\n",
    "# Fill this in:\n",
    "# What must be included?\n",
    "# Any specific calls to action?\n",
    "# Tone requirements?\n",
    "\n",
    "\"\"\"\n",
    "\n",
    "print(\"REQUIREMENTS:\")\n",
    "print(requirements)"
   ]
  },
  {
   "cell_type": "code",
   "execution_count": null,
   "metadata": {},
   "source": [
    "# Now combine everything into one powerful prompt\n",
    "final_prompt = f\"\"\"\n",
    "{context}\n",
    "\n",
    "{audience}\n",
    "\n",
    "{requirements}\n",
    "\n",
    "{length}\n",
    "\n",
    "{examples}\n",
    "\"\"\"\n",
    "\n",
    "print(\"🎯 YOUR COMPLETE PROMPT:\")\n",
    "print(final_prompt)"
   ]
  },
  {
   "cell_type": "markdown",
   "metadata": {},
   "source": [
    "---\n",
    "\n",
    "## Real-World Practice (60 minutes)\n",
    "\n",
    "Time to apply what you've learned to real scenarios you might face."
   ]
  },
  {
   "cell_type": "markdown",
   "metadata": {},
   "source": [
    "### Practice Scenario 1: Job Application Help\n",
    "\n",
    "**Situation:** You're applying for a marketing manager role at a tech startup. You need help writing a cover letter."
   ]
  },
  {
   "cell_type": "code",
   "execution_count": null,
   "metadata": {},
   "source": [
    "# Write a prompt using the CLEAR framework\n",
    "job_application_prompt = \"\"\"\n",
    "# Your prompt here:\n",
    "# Remember: Context, Length, Examples, Audience, Requirements\n",
    "\n",
    "\"\"\"\n",
    "\n",
    "print(\"JOB APPLICATION PROMPT:\")\n",
    "print(job_application_prompt)"
   ]
  },
  {
   "cell_type": "markdown",
   "metadata": {},
   "source": [
    "### Practice Scenario 2: Social Media Content\n",
    "\n",
    "**Situation:** You run a small bakery and need Instagram captions for your daily posts."
   ]
  },
  {
   "cell_type": "code",
   "execution_count": null,
   "metadata": {},
   "source": [
    "# Write a prompt for social media content\n",
    "social_media_prompt = \"\"\"\n",
    "# Your prompt here:\n",
    "# Think about the bakery's personality, audience, and Instagram best practices\n",
    "\n",
    "\"\"\"\n",
    "\n",
    "print(\"SOCIAL MEDIA PROMPT:\")\n",
    "print(social_media_prompt)"
   ]
  },
  {
   "cell_type": "markdown",
   "metadata": {},
   "source": [
    "### Practice Scenario 3: Learning New Skills\n",
    "\n",
    "**Situation:** You want to learn Python for data analysis but have no programming background."
   ]
  },
  {
   "cell_type": "code",
   "execution_count": null,
   "metadata": {},
   "source": [
    "# Write a prompt for learning assistance\n",
    "learning_prompt = \"\"\"\n",
    "# Your prompt here:\n",
    "# Consider your current skill level, learning style, and specific goals\n",
    "\n",
    "\"\"\"\n",
    "\n",
    "print(\"LEARNING PROMPT:\")\n",
    "print(learning_prompt)"
   ]
  },
  {
   "cell_type": "markdown",
   "metadata": {},
   "source": [
    "---\n",
    "\n",
    "## Week 1 Challenge: The $500 Content Test\n",
    "\n",
    "**Your Mission:** Create a prompt that generates content valuable enough that someone would pay $500 for it.\n",
    "\n",
    "**Choose one:**\n",
    "1. A comprehensive marketing strategy for a specific business\n",
    "2. A detailed technical tutorial for developers\n",
    "3. A complete social media content calendar\n",
    "4. A business plan for a startup idea"
   ]
  },
  {
   "cell_type": "code",
   "execution_count": null,
   "metadata": {},
   "source": [
    "# Your $500 prompt challenge\n",
    "challenge_prompt = \"\"\"\n",
    "# Write your most detailed, specific prompt here\n",
    "# Make it so good that the output would be worth paying for\n",
    "\n",
    "\"\"\"\n",
    "\n",
    "print(\"💰 YOUR $500 CHALLENGE PROMPT:\")\n",
    "print(challenge_prompt)"
   ]
  },
  {
   "cell_type": "markdown",
   "metadata": {},
   "source": [
    "---\n",
    "\n",
    "## Week 1 Reflection\n",
    "\n",
    "**Before you move to Week 2, answer these:**\n",
    "\n",
    "1. What was the biggest difference between your \"before\" and \"after\" prompts?\n",
    "2. Which part of the CLEAR framework made the most impact?\n",
    "3. What's one prompt you use regularly that you could improve?\n",
    "\n",
    "**Next Week Preview:** We'll learn how to give AI context about YOUR specific business, data, and domain so it stops giving generic advice."
   ]
  },
  {
   "cell_type": "code",
   "execution_count": null,
   "metadata": {},
   "source": [
    "# Your reflections\n",
    "reflection_1 = \"\"\"\n",
    "Biggest difference between before/after prompts:\n",
    "\n",
    "\"\"\"\n",
    "\n",
    "reflection_2 = \"\"\"\n",
    "Most impactful part of CLEAR framework:\n",
    "\n",
    "\"\"\"\n",
    "\n",
    "reflection_3 = \"\"\"\n",
    "One prompt I use regularly that I could improve:\n",
    "\n",
    "\"\"\"\n",
    "\n",
    "print(\"📝 WEEK 1 REFLECTIONS:\")\n",
    "print(reflection_1)\n",
    "print(reflection_2)\n",
    "print(reflection_3)"
   ]
  },
  {
   "cell_type": "markdown",
   "metadata": {},
   "source": [
    "---\n",
    "\n",
    "## Interactive Validation & Progress Tracking\n",
    "\n",
    "Let's use our built-in tools to validate your prompts and track your progress."
   ]
  },
  {
   "cell_type": "code",
   "execution_count": null,
   "metadata": {},
   "source": [
    "# Import our validation and tracking tools\n",
    "from prompt_validator import PromptValidator\n",
    "from progress_tracker import ProgressTracker\n",
    "from prompt_version_control import PromptVersionControl\n",
    "\n",
    "# Initialize tools\n",
    "validator = PromptValidator()\n",
    "tracker = ProgressTracker(\"Your Name\")  # Replace with your name\n",
    "version_control = PromptVersionControl(\"Week 1 Prompts\")\n",
    "\n",
    "print(\"🛠️ Tools loaded successfully!\")\n",
    "print(\"Ready to validate prompts and track progress.\")"
   ]
  },
  {
   "cell_type": "markdown",
   "metadata": {},
   "source": [
    "### Validate Your Improved Prompts\n",
    "\n",
    "Test your improved prompts from Challenge #1 using our validator:"
   ]
  },
  {
   "cell_type": "code",
   "execution_count": null,
   "metadata": {},
   "source": [
    "# Test your improved prompt #1\n",
    "# Replace this with your actual improved prompt\n",
    "your_improved_prompt_1 = \"\"\"\n",
    "Paste your improved prompt #1 here\n",
    "\"\"\"\n",
    "\n",
    "# Validate it\n",
    "result = validator.score_prompt(your_improved_prompt_1)\n",
    "\n",
    "print(f\"📊 PROMPT SCORE: {result['overall_score']}/1.0\")\n",
    "print(f\"🎓 GRADE: {result['grade']}\")\n",
    "print(\"\\n💡 FEEDBACK:\")\n",
    "for feedback in result['feedback']:\n",
    "    print(f\"   {feedback}\")\n",
    "\n",
    "# Save to version control if score is good\n",
    "if result['overall_score'] >= 0.7:\n",
    "    version_id = version_control.create_version(\n",
    "        prompt_text=your_improved_prompt_1,\n",
    "        description=\"Improved content creation prompt\",\n",
    "        author=\"Your Name\",\n",
    "        tags=[\"content\", \"week1\"]\n",
    "    )\n",
    "    print(f\"\\n✅ Prompt saved as version: {version_id}\")\n",
    "    \n",
    "    # Update skill progress\n",
    "    tracker.update_skill(\"week1_foundations\", \"prompt_debugging\", result['overall_score'])\n",
    "    print(\"📈 Progress updated!\")"
   ]
  },
  {
   "cell_type": "code",
   "execution_count": null,
   "metadata": {},
   "source": [
    "# Test your other improved prompts\n",
    "prompts_to_test = [\n",
    "    (\"your_improved_prompt_2\", \"Code help prompt\", \"code\"),\n",
    "    (\"your_improved_prompt_3\", \"Business strategy prompt\", \"business\")\n",
    "]\n",
    "\n",
    "for prompt_var, description, tag in prompts_to_test:\n",
    "    # You'll need to paste your actual prompts here\n",
    "    prompt_text = \"\"  # Replace with your prompt\n",
    "    \n",
    "    if prompt_text.strip():  # Only test if you've added a prompt\n",
    "        result = validator.score_prompt(prompt_text)\n",
    "        print(f\"\\n📊 {description.upper()}:\")\n",
    "        print(f\"Score: {result['overall_score']}/1.0 - {result['grade']}\")\n",
    "        \n",
    "        if result['overall_score'] >= 0.7:\n",
    "            version_control.create_version(\n",
    "                prompt_text=prompt_text,\n",
    "                description=description,\n",
    "                author=\"Your Name\",\n",
    "                tags=[tag, \"week1\"]\n",
    "            )\n",
    "            print(\"✅ Saved to version control\")"
   ]
  },
  {
   "cell_type": "markdown",
   "metadata": {},
   "source": [
    "### Track Your CLEAR Framework Mastery"
   ]
  },
  {
   "cell_type": "code",
   "execution_count": null,
   "metadata": {},
   "source": [
    "# After completing the CLEAR framework exercise, assess yourself\n",
    "clear_framework_score = 0.0  # Rate yourself 0.0 to 1.0 based on how well you applied CLEAR\n",
    "\n",
    "# Update your progress\n",
    "tracker.update_skill(\"week1_foundations\", \"clear_framework\", clear_framework_score)\n",
    "tracker.update_skill(\"week1_foundations\", \"context_setting\", clear_framework_score)\n",
    "tracker.update_skill(\"week1_foundations\", \"audience_targeting\", clear_framework_score)\n",
    "\n",
    "# Record assessment\n",
    "tracker.record_assessment(\n",
    "    \"week1_foundations\", \n",
    "    \"clear_framework_exercise\", \n",
    "    clear_framework_score,\n",
    "    {\"completed_scenarios\": 3, \"framework_applied\": True}\n",
    ")\n",
    "\n",
    "print(f\"📈 CLEAR Framework skill updated: {clear_framework_score:.1%}\")"
   ]
  },
  {
   "cell_type": "markdown",
   "metadata": {},
   "source": [
    "### Complete the $500 Challenge Assessment"
   ]
  },
  {
   "cell_type": "code",
   "execution_count": null,
   "metadata": {},
   "source": [
    "# Validate your $500 challenge prompt\n",
    "challenge_prompt = \"\"\"  # Paste your challenge prompt here\n",
    "\n",
    "\"\"\"\n",
    "\n",
    "if challenge_prompt.strip():\n",
    "    result = validator.score_prompt(challenge_prompt)\n",
    "    \n",
    "    print(\"💰 $500 CHALLENGE RESULTS:\")\n",
    "    print(f\"Score: {result['overall_score']}/1.0\")\n",
    "    print(f\"Grade: {result['grade']}\")\n",
    "    \n",
    "    # Bonus points for complexity and value\n",
    "    word_count = len(challenge_prompt.split())\n",
    "    complexity_bonus = min(0.2, word_count / 1000)  # Bonus for detailed prompts\n",
    "    final_score = min(1.0, result['overall_score'] + complexity_bonus)\n",
    "    \n",
    "    print(f\"\\nFinal Score (with complexity bonus): {final_score:.2f}\")\n",
    "    \n",
    "    # Determine if challenge passed\n",
    "    if final_score >= 0.8:\n",
    "        print(\"🎉 CHALLENGE PASSED! This prompt could generate valuable content.\")\n",
    "        tracker.update_skill(\"week1_foundations\", \"requirement_specification\", 1.0)\n",
    "        \n",
    "        # Save as your best prompt\n",
    "        version_control.create_version(\n",
    "            prompt_text=challenge_prompt,\n",
    "            description=\"$500 Challenge - High-value prompt\",\n",
    "            author=\"Your Name\",\n",
    "            tags=[\"challenge\", \"high-value\", \"week1\"]\n",
    "        )\n",
    "    else:\n",
    "        print(\"🔄 Keep refining! Aim for more specificity and clear value proposition.\")\n",
    "        print(\"Feedback:\", result['feedback'])\n",
    "    \n",
    "    # Record the challenge attempt\n",
    "    tracker.record_assessment(\n",
    "        \"week1_foundations\",\n",
    "        \"500_dollar_challenge\",\n",
    "        final_score,\n",
    "        {\"word_count\": word_count, \"passed\": final_score >= 0.8}\n",
    "    )"
   ]
  },
  {
   "cell_type": "markdown",
   "metadata": {},
   "source": [
    "### View Your Progress Report"
   ]
  },
  {
   "cell_type": "code",
   "execution_count": null,
   "metadata": {},
   "source": [
    "# Generate comprehensive progress report\n",
    "print(tracker.generate_skill_report())\n",
    "\n",
    "# Overall progress\n",
    "progress = tracker.get_overall_progress()\n",
    "print(f\"🎯 OVERALL PROGRESS: {progress['overall_progress']}%\")\n",
    "print(f\"📚 Skills Mastered: {progress['skills_mastered']}\")\n",
    "print(f\"📝 Assessments: {progress['assessments_completed']}\")\n",
    "print(f\"🚀 Next Focus: {progress['next_milestone']}\")\n",
    "\n",
    "# Check if ready for certificate\n",
    "certificate = tracker.generate_certificate(\"week1_foundations\")\n",
    "print(\"\\n\" + certificate)"
   ]
  },
  {
   "cell_type": "markdown",
   "metadata": {},
   "source": [
    "### Version Control Summary"
   ]
  },
  {
   "cell_type": "code",
   "execution_count": null,
   "metadata": {},
   "source": [
    "# View your prompt versions\n",
    "history = version_control.get_version_history()\n",
    "\n",
    "print(\"📚 YOUR PROMPT VERSIONS:\")\n",
    "print(\"=\" * 40)\n",
    "\n",
    "for version in history:\n",
    "    status = \"⭐ CURRENT\" if version['is_current'] else \"\"\n",
    "    print(f\"\\n{version['version_id']} {status}\")\n",
    "    print(f\"   📝 {version['description']}\")\n",
    "    print(f\"   🏷️  Tags: {', '.join(version['tags'])}\")\n",
    "    print(f\"   📅 {version['timestamp']}\")\n",
    "\n",
    "# Generate changelog\n",
    "print(\"\\n\" + \"=\" * 50)\n",
    "print(\"📋 CHANGELOG:\")\n",
    "print(version_control.generate_changelog())"
   ]
  }
 ],
 "metadata": {
  "kernelspec": {
   "display_name": "Python 3",
   "language": "python",
   "name": "python3"
  },
  "language_info": {
   "codemirror_mode": {
    "name": "ipython",
    "version": 3
   },
   "file_extension": ".py",
   "mimetype": "text/x-python",
   "name": "python",
   "nbconvert_exporter": "python",
   "pygments_lexer": "ipython3",
   "version": "3.8.0"
  }
 },
 "nbformat": 4,
 "nbformat_minor": 4
}